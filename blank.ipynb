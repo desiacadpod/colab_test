{
  "cells": [
    {
      "cell_type": "code",
      "source": [],
      "metadata": {
        "id": "rbUWkJukjGEX"
      },
      "execution_count": null,
      "outputs": []
    },
    {
      "cell_type": "markdown",
      "source": [],
      "metadata": {
        "id": "6u4Zx2WajGTS"
      }
    }
  ],
  "metadata": {
    "colab": {
      "provenance": []
    }
  },
  "nbformat": 4,
  "nbformat_minor": 0
}